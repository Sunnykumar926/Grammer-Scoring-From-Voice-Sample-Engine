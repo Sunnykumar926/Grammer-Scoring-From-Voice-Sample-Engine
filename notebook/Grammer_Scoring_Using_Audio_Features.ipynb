{
 "cells": [
  {
   "cell_type": "markdown",
   "metadata": {},
   "source": [
    "## Import Libraries"
   ]
  },
  {
   "cell_type": "code",
   "execution_count": null,
   "metadata": {},
   "outputs": [],
   "source": [
    "import os\n",
    "import librosa\n",
    "import joblib\n",
    "import torchaudio\n",
    "import numpy as np \n",
    "import pandas as pd \n",
    "import seaborn as sns\n",
    "import plotly.express as px\n",
    "import matplotlib.pyplot as plt \n",
    "\n",
    "from IPython.display import Audio\n",
    "from sklearn.model_selection import train_test_split \n",
    "from sklearn.ensemble import RandomForestRegressor \n",
    "from sklearn.metrics import mean_squared_error, mean_absolute_error "
   ]
  },
  {
   "cell_type": "code",
   "execution_count": 7,
   "metadata": {},
   "outputs": [
    {
     "name": "stdout",
     "output_type": "stream",
     "text": [
      "Training Samples:  444\n",
      "Test Samples:  195\n"
     ]
    }
   ],
   "source": [
    "# Set path to your dataset directories \n",
    "train_data = pd.read_csv('/home/sunny/Desktop/Grammer-Scoring-From-Voic-Sample-Engine/dataset/train.csv')\n",
    "test_data = pd.read_csv('/home/sunny/Desktop/Grammer-Scoring-From-Voic-Sample-Engine/dataset/test.csv')\n",
    "\n",
    "print('Training Samples: ', train_data.shape[0])\n",
    "print('Test Samples: ', test_data.shape[0])"
   ]
  },
  {
   "cell_type": "code",
   "execution_count": 9,
   "metadata": {},
   "outputs": [
    {
     "data": {
      "text/html": [
       "<div>\n",
       "<style scoped>\n",
       "    .dataframe tbody tr th:only-of-type {\n",
       "        vertical-align: middle;\n",
       "    }\n",
       "\n",
       "    .dataframe tbody tr th {\n",
       "        vertical-align: top;\n",
       "    }\n",
       "\n",
       "    .dataframe thead th {\n",
       "        text-align: right;\n",
       "    }\n",
       "</style>\n",
       "<table border=\"1\" class=\"dataframe\">\n",
       "  <thead>\n",
       "    <tr style=\"text-align: right;\">\n",
       "      <th></th>\n",
       "      <th>filename</th>\n",
       "      <th>label</th>\n",
       "    </tr>\n",
       "  </thead>\n",
       "  <tbody>\n",
       "    <tr>\n",
       "      <th>0</th>\n",
       "      <td>audio_1261.wav</td>\n",
       "      <td>1.0</td>\n",
       "    </tr>\n",
       "    <tr>\n",
       "      <th>1</th>\n",
       "      <td>audio_942.wav</td>\n",
       "      <td>1.5</td>\n",
       "    </tr>\n",
       "    <tr>\n",
       "      <th>2</th>\n",
       "      <td>audio_1110.wav</td>\n",
       "      <td>1.5</td>\n",
       "    </tr>\n",
       "    <tr>\n",
       "      <th>3</th>\n",
       "      <td>audio_1024.wav</td>\n",
       "      <td>1.5</td>\n",
       "    </tr>\n",
       "    <tr>\n",
       "      <th>4</th>\n",
       "      <td>audio_538.wav</td>\n",
       "      <td>2.0</td>\n",
       "    </tr>\n",
       "  </tbody>\n",
       "</table>\n",
       "</div>"
      ],
      "text/plain": [
       "         filename  label\n",
       "0  audio_1261.wav    1.0\n",
       "1   audio_942.wav    1.5\n",
       "2  audio_1110.wav    1.5\n",
       "3  audio_1024.wav    1.5\n",
       "4   audio_538.wav    2.0"
      ]
     },
     "execution_count": 9,
     "metadata": {},
     "output_type": "execute_result"
    }
   ],
   "source": [
    "train_data.head()"
   ]
  },
  {
   "cell_type": "code",
   "execution_count": 20,
   "metadata": {},
   "outputs": [],
   "source": [
    "import os\n",
    "\n",
    "base_path = '/home/sunny/Desktop/Grammer-Scoring-From-Voic-Sample-Engine/dataset/'\n",
    "for root, dirs, files in os.walk(base_path+train_data.filename[0]):\n",
    "    print(\"📁 Directory:\", root)\n",
    "    for file in files:\n",
    "        if file.endswith('.wav'):\n",
    "            print(\"   🎵 Found audio file:\", file)\n"
   ]
  },
  {
   "cell_type": "code",
   "execution_count": 21,
   "metadata": {},
   "outputs": [
    {
     "name": "stdout",
     "output_type": "stream",
     "text": [
      "audio_1261.wav\n"
     ]
    },
    {
     "ename": "RuntimeError",
     "evalue": "Failed to open the input \"/home/sunny/Desktop/Grammer-Scoring-From-Voic-Sample-Engine/dataset/audio_1261.wav\" (No such file or directory).\nException raised from get_input_format_context at /__w/audio/audio/pytorch/audio/src/libtorio/ffmpeg/stream_reader/stream_reader.cpp:42 (most recent call first):\nframe #0: c10::Error::Error(c10::SourceLocation, std::string) + 0x96 (0x7930752841b6 in /home/sunny/Desktop/Grammer-Scoring-From-Voic-Sample-Engine/my_env/lib/python3.11/site-packages/torch/lib/libc10.so)\nframe #1: c10::detail::torchCheckFail(char const*, char const*, unsigned int, std::string const&) + 0x64 (0x79307522da76 in /home/sunny/Desktop/Grammer-Scoring-From-Voic-Sample-Engine/my_env/lib/python3.11/site-packages/torch/lib/libc10.so)\nframe #2: <unknown function> + 0x42034 (0x793074692034 in /home/sunny/Desktop/Grammer-Scoring-From-Voic-Sample-Engine/my_env/lib/python3.11/site-packages/torio/lib/libtorio_ffmpeg4.so)\nframe #3: torio::io::StreamingMediaDecoder::StreamingMediaDecoder(std::string const&, std::optional<std::string> const&, std::optional<std::map<std::string, std::string, std::less<std::string>, std::allocator<std::pair<std::string const, std::string> > > > const&) + 0x14 (0x793074694a34 in /home/sunny/Desktop/Grammer-Scoring-From-Voic-Sample-Engine/my_env/lib/python3.11/site-packages/torio/lib/libtorio_ffmpeg4.so)\nframe #4: <unknown function> + 0x3bfee (0x792f76ee7fee in /home/sunny/Desktop/Grammer-Scoring-From-Voic-Sample-Engine/my_env/lib/python3.11/site-packages/torio/lib/_torio_ffmpeg4.so)\nframe #5: <unknown function> + 0x330c7 (0x792f76edf0c7 in /home/sunny/Desktop/Grammer-Scoring-From-Voic-Sample-Engine/my_env/lib/python3.11/site-packages/torio/lib/_torio_ffmpeg4.so)\nframe #6: /home/sunny/Desktop/Grammer-Scoring-From-Voic-Sample-Engine/my_env/bin/python() [0x528767]\nframe #7: _PyObject_MakeTpCall + 0x26c (0x5041ac in /home/sunny/Desktop/Grammer-Scoring-From-Voic-Sample-Engine/my_env/bin/python)\nframe #8: /home/sunny/Desktop/Grammer-Scoring-From-Voic-Sample-Engine/my_env/bin/python() [0x557599]\nframe #9: /home/sunny/Desktop/Grammer-Scoring-From-Voic-Sample-Engine/my_env/bin/python() [0x540399]\nframe #10: /home/sunny/Desktop/Grammer-Scoring-From-Voic-Sample-Engine/my_env/bin/python() [0x5045ac]\nframe #11: <unknown function> + 0xfc6b (0x7930750eac6b in /home/sunny/Desktop/Grammer-Scoring-From-Voic-Sample-Engine/my_env/lib/python3.11/site-packages/torchaudio/lib/_torchaudio.so)\nframe #12: _PyObject_MakeTpCall + 0x26c (0x5041ac in /home/sunny/Desktop/Grammer-Scoring-From-Voic-Sample-Engine/my_env/bin/python)\nframe #13: _PyEval_EvalFrameDefault + 0x6a7 (0x5116e7 in /home/sunny/Desktop/Grammer-Scoring-From-Voic-Sample-Engine/my_env/bin/python)\nframe #14: _PyFunction_Vectorcall + 0x173 (0x538cc3 in /home/sunny/Desktop/Grammer-Scoring-From-Voic-Sample-Engine/my_env/bin/python)\nframe #15: /home/sunny/Desktop/Grammer-Scoring-From-Voic-Sample-Engine/my_env/bin/python() [0x540022]\nframe #16: _PyObject_MakeTpCall + 0x233 (0x504173 in /home/sunny/Desktop/Grammer-Scoring-From-Voic-Sample-Engine/my_env/bin/python)\nframe #17: _PyEval_EvalFrameDefault + 0x6a7 (0x5116e7 in /home/sunny/Desktop/Grammer-Scoring-From-Voic-Sample-Engine/my_env/bin/python)\nframe #18: /home/sunny/Desktop/Grammer-Scoring-From-Voic-Sample-Engine/my_env/bin/python() [0x5cbeda]\nframe #19: PyEval_EvalCode + 0x9f (0x5cb5af in /home/sunny/Desktop/Grammer-Scoring-From-Voic-Sample-Engine/my_env/bin/python)\nframe #20: /home/sunny/Desktop/Grammer-Scoring-From-Voic-Sample-Engine/my_env/bin/python() [0x5e4d83]\nframe #21: _PyEval_EvalFrameDefault + 0x390a (0x51494a in /home/sunny/Desktop/Grammer-Scoring-From-Voic-Sample-Engine/my_env/bin/python)\nframe #22: /home/sunny/Desktop/Grammer-Scoring-From-Voic-Sample-Engine/my_env/bin/python() [0x5e079a]\nframe #23: _PyEval_EvalFrameDefault + 0x32c8 (0x514308 in /home/sunny/Desktop/Grammer-Scoring-From-Voic-Sample-Engine/my_env/bin/python)\nframe #24: /home/sunny/Desktop/Grammer-Scoring-From-Voic-Sample-Engine/my_env/bin/python() [0x5e079a]\nframe #25: _PyEval_EvalFrameDefault + 0x32c8 (0x514308 in /home/sunny/Desktop/Grammer-Scoring-From-Voic-Sample-Engine/my_env/bin/python)\nframe #26: /home/sunny/Desktop/Grammer-Scoring-From-Voic-Sample-Engine/my_env/bin/python() [0x5e079a]\nframe #27: /home/sunny/Desktop/Grammer-Scoring-From-Voic-Sample-Engine/my_env/bin/python() [0x5e2df6]\nframe #28: _PyEval_EvalFrameDefault + 0x37fb (0x51483b in /home/sunny/Desktop/Grammer-Scoring-From-Voic-Sample-Engine/my_env/bin/python)\nframe #29: /home/sunny/Desktop/Grammer-Scoring-From-Voic-Sample-Engine/my_env/bin/python() [0x557caf]\nframe #30: /home/sunny/Desktop/Grammer-Scoring-From-Voic-Sample-Engine/my_env/bin/python() [0x55749e]\nframe #31: PyObject_Call + 0x12c (0x542bec in /home/sunny/Desktop/Grammer-Scoring-From-Voic-Sample-Engine/my_env/bin/python)\nframe #32: _PyEval_EvalFrameDefault + 0x47a9 (0x5157e9 in /home/sunny/Desktop/Grammer-Scoring-From-Voic-Sample-Engine/my_env/bin/python)\nframe #33: /home/sunny/Desktop/Grammer-Scoring-From-Voic-Sample-Engine/my_env/bin/python() [0x5e079a]\nframe #34: _PyEval_EvalFrameDefault + 0x32c8 (0x514308 in /home/sunny/Desktop/Grammer-Scoring-From-Voic-Sample-Engine/my_env/bin/python)\nframe #35: /home/sunny/Desktop/Grammer-Scoring-From-Voic-Sample-Engine/my_env/bin/python() [0x5e079a]\nframe #36: _PyEval_EvalFrameDefault + 0x32c8 (0x514308 in /home/sunny/Desktop/Grammer-Scoring-From-Voic-Sample-Engine/my_env/bin/python)\nframe #37: /home/sunny/Desktop/Grammer-Scoring-From-Voic-Sample-Engine/my_env/bin/python() [0x5e079a]\nframe #38: _PyEval_EvalFrameDefault + 0x32c8 (0x514308 in /home/sunny/Desktop/Grammer-Scoring-From-Voic-Sample-Engine/my_env/bin/python)\nframe #39: /home/sunny/Desktop/Grammer-Scoring-From-Voic-Sample-Engine/my_env/bin/python() [0x5e079a]\nframe #40: _PyEval_EvalFrameDefault + 0x32c8 (0x514308 in /home/sunny/Desktop/Grammer-Scoring-From-Voic-Sample-Engine/my_env/bin/python)\nframe #41: /home/sunny/Desktop/Grammer-Scoring-From-Voic-Sample-Engine/my_env/bin/python() [0x5e079a]\nframe #42: _PyEval_EvalFrameDefault + 0x32c8 (0x514308 in /home/sunny/Desktop/Grammer-Scoring-From-Voic-Sample-Engine/my_env/bin/python)\nframe #43: /home/sunny/Desktop/Grammer-Scoring-From-Voic-Sample-Engine/my_env/bin/python() [0x5e079a]\nframe #44: <unknown function> + 0x79fb (0x7930a67ab9fb in /home/sunny/Downloads/yes/lib/python3.11/lib-dynload/_asyncio.cpython-311-x86_64-linux-gnu.so)\nframe #45: /home/sunny/Desktop/Grammer-Scoring-From-Voic-Sample-Engine/my_env/bin/python() [0x52695b]\nframe #46: /home/sunny/Desktop/Grammer-Scoring-From-Voic-Sample-Engine/my_env/bin/python() [0x4c7148]\nframe #47: /home/sunny/Desktop/Grammer-Scoring-From-Voic-Sample-Engine/my_env/bin/python() [0x4cc196]\nframe #48: /home/sunny/Desktop/Grammer-Scoring-From-Voic-Sample-Engine/my_env/bin/python() [0x51e7b7]\nframe #49: _PyEval_EvalFrameDefault + 0x88aa (0x5198ea in /home/sunny/Desktop/Grammer-Scoring-From-Voic-Sample-Engine/my_env/bin/python)\nframe #50: /home/sunny/Desktop/Grammer-Scoring-From-Voic-Sample-Engine/my_env/bin/python() [0x5cbeda]\nframe #51: PyEval_EvalCode + 0x9f (0x5cb5af in /home/sunny/Desktop/Grammer-Scoring-From-Voic-Sample-Engine/my_env/bin/python)\nframe #52: /home/sunny/Desktop/Grammer-Scoring-From-Voic-Sample-Engine/my_env/bin/python() [0x5e4d83]\nframe #53: /home/sunny/Desktop/Grammer-Scoring-From-Voic-Sample-Engine/my_env/bin/python() [0x51e7b7]\nframe #54: PyObject_Vectorcall + 0x31 (0x51e6a1 in /home/sunny/Desktop/Grammer-Scoring-From-Voic-Sample-Engine/my_env/bin/python)\nframe #55: _PyEval_EvalFrameDefault + 0x6a7 (0x5116e7 in /home/sunny/Desktop/Grammer-Scoring-From-Voic-Sample-Engine/my_env/bin/python)\nframe #56: _PyFunction_Vectorcall + 0x173 (0x538cc3 in /home/sunny/Desktop/Grammer-Scoring-From-Voic-Sample-Engine/my_env/bin/python)\nframe #57: /home/sunny/Desktop/Grammer-Scoring-From-Voic-Sample-Engine/my_env/bin/python() [0x5f734f]\nframe #58: Py_RunMain + 0x14a (0x5f6d5a in /home/sunny/Desktop/Grammer-Scoring-From-Voic-Sample-Engine/my_env/bin/python)\nframe #59: Py_BytesMain + 0x39 (0x5bbc79 in /home/sunny/Desktop/Grammer-Scoring-From-Voic-Sample-Engine/my_env/bin/python)\nframe #60: <unknown function> + 0x29d90 (0x7930a6a29d90 in /lib/x86_64-linux-gnu/libc.so.6)\nframe #61: __libc_start_main + 0x80 (0x7930a6a29e40 in /lib/x86_64-linux-gnu/libc.so.6)\nframe #62: /home/sunny/Desktop/Grammer-Scoring-From-Voic-Sample-Engine/my_env/bin/python() [0x5bbac3]\n",
     "output_type": "error",
     "traceback": [
      "\u001b[31m---------------------------------------------------------------------------\u001b[39m",
      "\u001b[31mRuntimeError\u001b[39m                              Traceback (most recent call last)",
      "\u001b[36mCell\u001b[39m\u001b[36m \u001b[39m\u001b[32mIn[21]\u001b[39m\u001b[32m, line 3\u001b[39m\n\u001b[32m      1\u001b[39m path = train_data[\u001b[33m'\u001b[39m\u001b[33mfilename\u001b[39m\u001b[33m'\u001b[39m][\u001b[32m0\u001b[39m]\n\u001b[32m      2\u001b[39m \u001b[38;5;28mprint\u001b[39m(path)\n\u001b[32m----> \u001b[39m\u001b[32m3\u001b[39m data, rate = \u001b[43mtorchaudio\u001b[49m\u001b[43m.\u001b[49m\u001b[43mload\u001b[49m\u001b[43m(\u001b[49m\u001b[43mbase_path\u001b[49m\u001b[43m+\u001b[49m\u001b[43mtrain_data\u001b[49m\u001b[43m.\u001b[49m\u001b[43mfilename\u001b[49m\u001b[43m[\u001b[49m\u001b[32;43m0\u001b[39;49m\u001b[43m]\u001b[49m\u001b[43m)\u001b[49m\n\u001b[32m      4\u001b[39m display(Audio(data[\u001b[32m0\u001b[39m, :rate*\u001b[32m5\u001b[39m], rate=rate))\n\u001b[32m      5\u001b[39m \u001b[38;5;66;03m# px.line(y=data[0, :rate*5], title=train_data.common_name[0])\u001b[39;00m\n",
      "\u001b[36mFile \u001b[39m\u001b[32m~/Desktop/Grammer-Scoring-From-Voic-Sample-Engine/my_env/lib/python3.11/site-packages/torchaudio/_backend/utils.py:205\u001b[39m, in \u001b[36mget_load_func.<locals>.load\u001b[39m\u001b[34m(uri, frame_offset, num_frames, normalize, channels_first, format, buffer_size, backend)\u001b[39m\n\u001b[32m    128\u001b[39m \u001b[38;5;250m\u001b[39m\u001b[33;03m\"\"\"Load audio data from source.\u001b[39;00m\n\u001b[32m    129\u001b[39m \n\u001b[32m    130\u001b[39m \u001b[33;03mBy default (``normalize=True``, ``channels_first=True``), this function returns Tensor with\u001b[39;00m\n\u001b[32m   (...)\u001b[39m\u001b[32m    202\u001b[39m \u001b[33;03m        `[channel, time]` else `[time, channel]`.\u001b[39;00m\n\u001b[32m    203\u001b[39m \u001b[33;03m\"\"\"\u001b[39;00m\n\u001b[32m    204\u001b[39m backend = dispatcher(uri, \u001b[38;5;28mformat\u001b[39m, backend)\n\u001b[32m--> \u001b[39m\u001b[32m205\u001b[39m \u001b[38;5;28;01mreturn\u001b[39;00m \u001b[43mbackend\u001b[49m\u001b[43m.\u001b[49m\u001b[43mload\u001b[49m\u001b[43m(\u001b[49m\u001b[43muri\u001b[49m\u001b[43m,\u001b[49m\u001b[43m \u001b[49m\u001b[43mframe_offset\u001b[49m\u001b[43m,\u001b[49m\u001b[43m \u001b[49m\u001b[43mnum_frames\u001b[49m\u001b[43m,\u001b[49m\u001b[43m \u001b[49m\u001b[43mnormalize\u001b[49m\u001b[43m,\u001b[49m\u001b[43m \u001b[49m\u001b[43mchannels_first\u001b[49m\u001b[43m,\u001b[49m\u001b[43m \u001b[49m\u001b[38;5;28;43mformat\u001b[39;49m\u001b[43m,\u001b[49m\u001b[43m \u001b[49m\u001b[43mbuffer_size\u001b[49m\u001b[43m)\u001b[49m\n",
      "\u001b[36mFile \u001b[39m\u001b[32m~/Desktop/Grammer-Scoring-From-Voic-Sample-Engine/my_env/lib/python3.11/site-packages/torchaudio/_backend/ffmpeg.py:297\u001b[39m, in \u001b[36mFFmpegBackend.load\u001b[39m\u001b[34m(uri, frame_offset, num_frames, normalize, channels_first, format, buffer_size)\u001b[39m\n\u001b[32m    287\u001b[39m \u001b[38;5;129m@staticmethod\u001b[39m\n\u001b[32m    288\u001b[39m \u001b[38;5;28;01mdef\u001b[39;00m\u001b[38;5;250m \u001b[39m\u001b[34mload\u001b[39m(\n\u001b[32m    289\u001b[39m     uri: InputType,\n\u001b[32m   (...)\u001b[39m\u001b[32m    295\u001b[39m     buffer_size: \u001b[38;5;28mint\u001b[39m = \u001b[32m4096\u001b[39m,\n\u001b[32m    296\u001b[39m ) -> Tuple[torch.Tensor, \u001b[38;5;28mint\u001b[39m]:\n\u001b[32m--> \u001b[39m\u001b[32m297\u001b[39m     \u001b[38;5;28;01mreturn\u001b[39;00m \u001b[43mload_audio\u001b[49m\u001b[43m(\u001b[49m\u001b[43muri\u001b[49m\u001b[43m,\u001b[49m\u001b[43m \u001b[49m\u001b[43mframe_offset\u001b[49m\u001b[43m,\u001b[49m\u001b[43m \u001b[49m\u001b[43mnum_frames\u001b[49m\u001b[43m,\u001b[49m\u001b[43m \u001b[49m\u001b[43mnormalize\u001b[49m\u001b[43m,\u001b[49m\u001b[43m \u001b[49m\u001b[43mchannels_first\u001b[49m\u001b[43m,\u001b[49m\u001b[43m \u001b[49m\u001b[38;5;28;43mformat\u001b[39;49m\u001b[43m)\u001b[49m\n",
      "\u001b[36mFile \u001b[39m\u001b[32m~/Desktop/Grammer-Scoring-From-Voic-Sample-Engine/my_env/lib/python3.11/site-packages/torchaudio/_backend/ffmpeg.py:88\u001b[39m, in \u001b[36mload_audio\u001b[39m\u001b[34m(src, frame_offset, num_frames, convert, channels_first, format, buffer_size)\u001b[39m\n\u001b[32m     86\u001b[39m \u001b[38;5;28;01mif\u001b[39;00m \u001b[38;5;28mhasattr\u001b[39m(src, \u001b[33m\"\u001b[39m\u001b[33mread\u001b[39m\u001b[33m\"\u001b[39m) \u001b[38;5;129;01mand\u001b[39;00m \u001b[38;5;28mformat\u001b[39m == \u001b[33m\"\u001b[39m\u001b[33mvorbis\u001b[39m\u001b[33m\"\u001b[39m:\n\u001b[32m     87\u001b[39m     \u001b[38;5;28mformat\u001b[39m = \u001b[33m\"\u001b[39m\u001b[33mogg\u001b[39m\u001b[33m\"\u001b[39m\n\u001b[32m---> \u001b[39m\u001b[32m88\u001b[39m s = \u001b[43mtorchaudio\u001b[49m\u001b[43m.\u001b[49m\u001b[43mio\u001b[49m\u001b[43m.\u001b[49m\u001b[43mStreamReader\u001b[49m\u001b[43m(\u001b[49m\u001b[43msrc\u001b[49m\u001b[43m,\u001b[49m\u001b[43m \u001b[49m\u001b[38;5;28;43mformat\u001b[39;49m\u001b[43m,\u001b[49m\u001b[43m \u001b[49m\u001b[38;5;28;43;01mNone\u001b[39;49;00m\u001b[43m,\u001b[49m\u001b[43m \u001b[49m\u001b[43mbuffer_size\u001b[49m\u001b[43m)\u001b[49m\n\u001b[32m     89\u001b[39m sample_rate = \u001b[38;5;28mint\u001b[39m(s.get_src_stream_info(s.default_audio_stream).sample_rate)\n\u001b[32m     90\u001b[39m \u001b[38;5;28mfilter\u001b[39m = _get_load_filter(frame_offset, num_frames, convert)\n",
      "\u001b[36mFile \u001b[39m\u001b[32m~/Desktop/Grammer-Scoring-From-Voic-Sample-Engine/my_env/lib/python3.11/site-packages/torio/io/_streaming_media_decoder.py:526\u001b[39m, in \u001b[36mStreamingMediaDecoder.__init__\u001b[39m\u001b[34m(self, src, format, option, buffer_size)\u001b[39m\n\u001b[32m    524\u001b[39m     \u001b[38;5;28mself\u001b[39m._be = ffmpeg_ext.StreamingMediaDecoderFileObj(src, \u001b[38;5;28mformat\u001b[39m, option, buffer_size)\n\u001b[32m    525\u001b[39m \u001b[38;5;28;01melse\u001b[39;00m:\n\u001b[32m--> \u001b[39m\u001b[32m526\u001b[39m     \u001b[38;5;28mself\u001b[39m._be = \u001b[43mffmpeg_ext\u001b[49m\u001b[43m.\u001b[49m\u001b[43mStreamingMediaDecoder\u001b[49m\u001b[43m(\u001b[49m\u001b[43mos\u001b[49m\u001b[43m.\u001b[49m\u001b[43mpath\u001b[49m\u001b[43m.\u001b[49m\u001b[43mnormpath\u001b[49m\u001b[43m(\u001b[49m\u001b[43msrc\u001b[49m\u001b[43m)\u001b[49m\u001b[43m,\u001b[49m\u001b[43m \u001b[49m\u001b[38;5;28;43mformat\u001b[39;49m\u001b[43m,\u001b[49m\u001b[43m \u001b[49m\u001b[43moption\u001b[49m\u001b[43m)\u001b[49m\n\u001b[32m    528\u001b[39m i = \u001b[38;5;28mself\u001b[39m._be.find_best_audio_stream()\n\u001b[32m    529\u001b[39m \u001b[38;5;28mself\u001b[39m._default_audio_stream = \u001b[38;5;28;01mNone\u001b[39;00m \u001b[38;5;28;01mif\u001b[39;00m i < \u001b[32m0\u001b[39m \u001b[38;5;28;01melse\u001b[39;00m i\n",
      "\u001b[31mRuntimeError\u001b[39m: Failed to open the input \"/home/sunny/Desktop/Grammer-Scoring-From-Voic-Sample-Engine/dataset/audio_1261.wav\" (No such file or directory).\nException raised from get_input_format_context at /__w/audio/audio/pytorch/audio/src/libtorio/ffmpeg/stream_reader/stream_reader.cpp:42 (most recent call first):\nframe #0: c10::Error::Error(c10::SourceLocation, std::string) + 0x96 (0x7930752841b6 in /home/sunny/Desktop/Grammer-Scoring-From-Voic-Sample-Engine/my_env/lib/python3.11/site-packages/torch/lib/libc10.so)\nframe #1: c10::detail::torchCheckFail(char const*, char const*, unsigned int, std::string const&) + 0x64 (0x79307522da76 in /home/sunny/Desktop/Grammer-Scoring-From-Voic-Sample-Engine/my_env/lib/python3.11/site-packages/torch/lib/libc10.so)\nframe #2: <unknown function> + 0x42034 (0x793074692034 in /home/sunny/Desktop/Grammer-Scoring-From-Voic-Sample-Engine/my_env/lib/python3.11/site-packages/torio/lib/libtorio_ffmpeg4.so)\nframe #3: torio::io::StreamingMediaDecoder::StreamingMediaDecoder(std::string const&, std::optional<std::string> const&, std::optional<std::map<std::string, std::string, std::less<std::string>, std::allocator<std::pair<std::string const, std::string> > > > const&) + 0x14 (0x793074694a34 in /home/sunny/Desktop/Grammer-Scoring-From-Voic-Sample-Engine/my_env/lib/python3.11/site-packages/torio/lib/libtorio_ffmpeg4.so)\nframe #4: <unknown function> + 0x3bfee (0x792f76ee7fee in /home/sunny/Desktop/Grammer-Scoring-From-Voic-Sample-Engine/my_env/lib/python3.11/site-packages/torio/lib/_torio_ffmpeg4.so)\nframe #5: <unknown function> + 0x330c7 (0x792f76edf0c7 in /home/sunny/Desktop/Grammer-Scoring-From-Voic-Sample-Engine/my_env/lib/python3.11/site-packages/torio/lib/_torio_ffmpeg4.so)\nframe #6: /home/sunny/Desktop/Grammer-Scoring-From-Voic-Sample-Engine/my_env/bin/python() [0x528767]\nframe #7: _PyObject_MakeTpCall + 0x26c (0x5041ac in /home/sunny/Desktop/Grammer-Scoring-From-Voic-Sample-Engine/my_env/bin/python)\nframe #8: /home/sunny/Desktop/Grammer-Scoring-From-Voic-Sample-Engine/my_env/bin/python() [0x557599]\nframe #9: /home/sunny/Desktop/Grammer-Scoring-From-Voic-Sample-Engine/my_env/bin/python() [0x540399]\nframe #10: /home/sunny/Desktop/Grammer-Scoring-From-Voic-Sample-Engine/my_env/bin/python() [0x5045ac]\nframe #11: <unknown function> + 0xfc6b (0x7930750eac6b in /home/sunny/Desktop/Grammer-Scoring-From-Voic-Sample-Engine/my_env/lib/python3.11/site-packages/torchaudio/lib/_torchaudio.so)\nframe #12: _PyObject_MakeTpCall + 0x26c (0x5041ac in /home/sunny/Desktop/Grammer-Scoring-From-Voic-Sample-Engine/my_env/bin/python)\nframe #13: _PyEval_EvalFrameDefault + 0x6a7 (0x5116e7 in /home/sunny/Desktop/Grammer-Scoring-From-Voic-Sample-Engine/my_env/bin/python)\nframe #14: _PyFunction_Vectorcall + 0x173 (0x538cc3 in /home/sunny/Desktop/Grammer-Scoring-From-Voic-Sample-Engine/my_env/bin/python)\nframe #15: /home/sunny/Desktop/Grammer-Scoring-From-Voic-Sample-Engine/my_env/bin/python() [0x540022]\nframe #16: _PyObject_MakeTpCall + 0x233 (0x504173 in /home/sunny/Desktop/Grammer-Scoring-From-Voic-Sample-Engine/my_env/bin/python)\nframe #17: _PyEval_EvalFrameDefault + 0x6a7 (0x5116e7 in /home/sunny/Desktop/Grammer-Scoring-From-Voic-Sample-Engine/my_env/bin/python)\nframe #18: /home/sunny/Desktop/Grammer-Scoring-From-Voic-Sample-Engine/my_env/bin/python() [0x5cbeda]\nframe #19: PyEval_EvalCode + 0x9f (0x5cb5af in /home/sunny/Desktop/Grammer-Scoring-From-Voic-Sample-Engine/my_env/bin/python)\nframe #20: /home/sunny/Desktop/Grammer-Scoring-From-Voic-Sample-Engine/my_env/bin/python() [0x5e4d83]\nframe #21: _PyEval_EvalFrameDefault + 0x390a (0x51494a in /home/sunny/Desktop/Grammer-Scoring-From-Voic-Sample-Engine/my_env/bin/python)\nframe #22: /home/sunny/Desktop/Grammer-Scoring-From-Voic-Sample-Engine/my_env/bin/python() [0x5e079a]\nframe #23: _PyEval_EvalFrameDefault + 0x32c8 (0x514308 in /home/sunny/Desktop/Grammer-Scoring-From-Voic-Sample-Engine/my_env/bin/python)\nframe #24: /home/sunny/Desktop/Grammer-Scoring-From-Voic-Sample-Engine/my_env/bin/python() [0x5e079a]\nframe #25: _PyEval_EvalFrameDefault + 0x32c8 (0x514308 in /home/sunny/Desktop/Grammer-Scoring-From-Voic-Sample-Engine/my_env/bin/python)\nframe #26: /home/sunny/Desktop/Grammer-Scoring-From-Voic-Sample-Engine/my_env/bin/python() [0x5e079a]\nframe #27: /home/sunny/Desktop/Grammer-Scoring-From-Voic-Sample-Engine/my_env/bin/python() [0x5e2df6]\nframe #28: _PyEval_EvalFrameDefault + 0x37fb (0x51483b in /home/sunny/Desktop/Grammer-Scoring-From-Voic-Sample-Engine/my_env/bin/python)\nframe #29: /home/sunny/Desktop/Grammer-Scoring-From-Voic-Sample-Engine/my_env/bin/python() [0x557caf]\nframe #30: /home/sunny/Desktop/Grammer-Scoring-From-Voic-Sample-Engine/my_env/bin/python() [0x55749e]\nframe #31: PyObject_Call + 0x12c (0x542bec in /home/sunny/Desktop/Grammer-Scoring-From-Voic-Sample-Engine/my_env/bin/python)\nframe #32: _PyEval_EvalFrameDefault + 0x47a9 (0x5157e9 in /home/sunny/Desktop/Grammer-Scoring-From-Voic-Sample-Engine/my_env/bin/python)\nframe #33: /home/sunny/Desktop/Grammer-Scoring-From-Voic-Sample-Engine/my_env/bin/python() [0x5e079a]\nframe #34: _PyEval_EvalFrameDefault + 0x32c8 (0x514308 in /home/sunny/Desktop/Grammer-Scoring-From-Voic-Sample-Engine/my_env/bin/python)\nframe #35: /home/sunny/Desktop/Grammer-Scoring-From-Voic-Sample-Engine/my_env/bin/python() [0x5e079a]\nframe #36: _PyEval_EvalFrameDefault + 0x32c8 (0x514308 in /home/sunny/Desktop/Grammer-Scoring-From-Voic-Sample-Engine/my_env/bin/python)\nframe #37: /home/sunny/Desktop/Grammer-Scoring-From-Voic-Sample-Engine/my_env/bin/python() [0x5e079a]\nframe #38: _PyEval_EvalFrameDefault + 0x32c8 (0x514308 in /home/sunny/Desktop/Grammer-Scoring-From-Voic-Sample-Engine/my_env/bin/python)\nframe #39: /home/sunny/Desktop/Grammer-Scoring-From-Voic-Sample-Engine/my_env/bin/python() [0x5e079a]\nframe #40: _PyEval_EvalFrameDefault + 0x32c8 (0x514308 in /home/sunny/Desktop/Grammer-Scoring-From-Voic-Sample-Engine/my_env/bin/python)\nframe #41: /home/sunny/Desktop/Grammer-Scoring-From-Voic-Sample-Engine/my_env/bin/python() [0x5e079a]\nframe #42: _PyEval_EvalFrameDefault + 0x32c8 (0x514308 in /home/sunny/Desktop/Grammer-Scoring-From-Voic-Sample-Engine/my_env/bin/python)\nframe #43: /home/sunny/Desktop/Grammer-Scoring-From-Voic-Sample-Engine/my_env/bin/python() [0x5e079a]\nframe #44: <unknown function> + 0x79fb (0x7930a67ab9fb in /home/sunny/Downloads/yes/lib/python3.11/lib-dynload/_asyncio.cpython-311-x86_64-linux-gnu.so)\nframe #45: /home/sunny/Desktop/Grammer-Scoring-From-Voic-Sample-Engine/my_env/bin/python() [0x52695b]\nframe #46: /home/sunny/Desktop/Grammer-Scoring-From-Voic-Sample-Engine/my_env/bin/python() [0x4c7148]\nframe #47: /home/sunny/Desktop/Grammer-Scoring-From-Voic-Sample-Engine/my_env/bin/python() [0x4cc196]\nframe #48: /home/sunny/Desktop/Grammer-Scoring-From-Voic-Sample-Engine/my_env/bin/python() [0x51e7b7]\nframe #49: _PyEval_EvalFrameDefault + 0x88aa (0x5198ea in /home/sunny/Desktop/Grammer-Scoring-From-Voic-Sample-Engine/my_env/bin/python)\nframe #50: /home/sunny/Desktop/Grammer-Scoring-From-Voic-Sample-Engine/my_env/bin/python() [0x5cbeda]\nframe #51: PyEval_EvalCode + 0x9f (0x5cb5af in /home/sunny/Desktop/Grammer-Scoring-From-Voic-Sample-Engine/my_env/bin/python)\nframe #52: /home/sunny/Desktop/Grammer-Scoring-From-Voic-Sample-Engine/my_env/bin/python() [0x5e4d83]\nframe #53: /home/sunny/Desktop/Grammer-Scoring-From-Voic-Sample-Engine/my_env/bin/python() [0x51e7b7]\nframe #54: PyObject_Vectorcall + 0x31 (0x51e6a1 in /home/sunny/Desktop/Grammer-Scoring-From-Voic-Sample-Engine/my_env/bin/python)\nframe #55: _PyEval_EvalFrameDefault + 0x6a7 (0x5116e7 in /home/sunny/Desktop/Grammer-Scoring-From-Voic-Sample-Engine/my_env/bin/python)\nframe #56: _PyFunction_Vectorcall + 0x173 (0x538cc3 in /home/sunny/Desktop/Grammer-Scoring-From-Voic-Sample-Engine/my_env/bin/python)\nframe #57: /home/sunny/Desktop/Grammer-Scoring-From-Voic-Sample-Engine/my_env/bin/python() [0x5f734f]\nframe #58: Py_RunMain + 0x14a (0x5f6d5a in /home/sunny/Desktop/Grammer-Scoring-From-Voic-Sample-Engine/my_env/bin/python)\nframe #59: Py_BytesMain + 0x39 (0x5bbc79 in /home/sunny/Desktop/Grammer-Scoring-From-Voic-Sample-Engine/my_env/bin/python)\nframe #60: <unknown function> + 0x29d90 (0x7930a6a29d90 in /lib/x86_64-linux-gnu/libc.so.6)\nframe #61: __libc_start_main + 0x80 (0x7930a6a29e40 in /lib/x86_64-linux-gnu/libc.so.6)\nframe #62: /home/sunny/Desktop/Grammer-Scoring-From-Voic-Sample-Engine/my_env/bin/python() [0x5bbac3]\n"
     ]
    }
   ],
   "source": [
    "path = train_data['filename'][0]\n",
    "print(path)\n",
    "data, rate = torchaudio.load(base_path+train_data.filename[0])\n",
    "display(Audio(data[0, :rate*5], rate=rate))\n",
    "# px.line(y=data[0, :rate*5], title=train_data.common_name[0])"
   ]
  },
  {
   "cell_type": "code",
   "execution_count": null,
   "metadata": {},
   "outputs": [],
   "source": []
  },
  {
   "cell_type": "code",
   "execution_count": null,
   "metadata": {},
   "outputs": [],
   "source": []
  }
 ],
 "metadata": {
  "kernelspec": {
   "display_name": "my_env",
   "language": "python",
   "name": "python3"
  },
  "language_info": {
   "codemirror_mode": {
    "name": "ipython",
    "version": 3
   },
   "file_extension": ".py",
   "mimetype": "text/x-python",
   "name": "python",
   "nbconvert_exporter": "python",
   "pygments_lexer": "ipython3",
   "version": "3.11.9"
  }
 },
 "nbformat": 4,
 "nbformat_minor": 2
}
